{
 "cells": [
  {
   "cell_type": "code",
   "execution_count": 4,
   "metadata": {},
   "outputs": [
    {
     "name": "stdout",
     "output_type": "stream",
     "text": [
      "Defaulting to user installation because normal site-packages is not writeable\n",
      "Requirement already satisfied: pymongo in c:\\users\\wasadmin\\appdata\\roaming\\python\\python312\\site-packages (4.7.2)\n",
      "Requirement already satisfied: dnspython<3.0.0,>=1.16.0 in c:\\users\\wasadmin\\appdata\\roaming\\python\\python312\\site-packages (from pymongo) (2.6.1)\n"
     ]
    }
   ],
   "source": [
    "! pip install pymongo"
   ]
  },
  {
   "cell_type": "code",
   "execution_count": 5,
   "metadata": {},
   "outputs": [
    {
     "name": "stdout",
     "output_type": "stream",
     "text": [
      "Defaulting to user installation because normal site-packages is not writeable\n",
      "Requirement already satisfied: faker in c:\\users\\wasadmin\\appdata\\roaming\\python\\python312\\site-packages (25.2.0)\n",
      "Requirement already satisfied: python-dateutil>=2.4 in c:\\users\\wasadmin\\appdata\\roaming\\python\\python312\\site-packages (from faker) (2.9.0.post0)\n",
      "Requirement already satisfied: six>=1.5 in c:\\users\\wasadmin\\appdata\\roaming\\python\\python312\\site-packages (from python-dateutil>=2.4->faker) (1.16.0)\n"
     ]
    }
   ],
   "source": [
    "! pip install faker"
   ]
  },
  {
   "cell_type": "code",
   "execution_count": 5,
   "metadata": {},
   "outputs": [
    {
     "name": "stdout",
     "output_type": "stream",
     "text": [
      "1000 records inserted.\n"
     ]
    }
   ],
   "source": [
    "def generate_dummy_data(num_records):\n",
    "    # Generate manager IDs (so that employees are tied to managers)\n",
    "    manager_ids = [generate_employee_id() for _ in range(10)]  # Set number of managers here\n",
    "    combinations = [(role, location) for role in roles for location in locations]\n",
    "    \n",
    "    # Distribute manager IDs evenly among the combinations\n",
    "    manager_id_mapping = {comb: random.choice(manager_ids) for comb in combinations}\n",
    "    \n",
    "    for i in range(num_records):\n",
    "        role, location = combinations[i % len(combinations)]\n",
    "        employee_id = generate_employee_id()\n",
    "        manager_id = manager_id_mapping[(role, location)]  # Assign the manager ID based on the combination\n",
    "        name = fake.name()\n",
    "        username = generate_username(name)\n",
    "        password = generate_password()\n",
    "        employee = {\n",
    "            'employee_id': employee_id,\n",
    "            'name': name,\n",
    "            'username': username,\n",
    "            'password': password,\n",
    "            'phone': generate_phone_number(),  # Generate a random phone number\n",
    "            'job_role': role,\n",
    "            'work_location': location,\n",
    "            'salary': random.randint(50000, 100000),\n",
    "            'manager_id': manager_id\n",
    "            # TODO: 'picture': employee_pic\n",
    "        }\n",
    "        collection.insert_one(employee)\n",
    "    print(f'{num_records} records inserted.')\n",
    "\n",
    "generate_dummy_data(1000)  # Set the number of records here\n"
   ]
  },
  {
   "cell_type": "code",
   "execution_count": null,
   "metadata": {},
   "outputs": [],
   "source": []
  }
 ],
 "metadata": {
  "kernelspec": {
   "display_name": "Python 3",
   "language": "python",
   "name": "python3"
  },
  "language_info": {
   "codemirror_mode": {
    "name": "ipython",
    "version": 3
   },
   "file_extension": ".py",
   "mimetype": "text/x-python",
   "name": "python",
   "nbconvert_exporter": "python",
   "pygments_lexer": "ipython3",
   "version": "3.12.3"
  }
 },
 "nbformat": 4,
 "nbformat_minor": 2
}
