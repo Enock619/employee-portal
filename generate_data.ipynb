{
 "cells": [
  {
   "cell_type": "code",
   "execution_count": 1,
   "metadata": {},
   "outputs": [
    {
     "name": "stdout",
     "output_type": "stream",
     "text": [
      "Defaulting to user installation because normal site-packages is not writeable\n",
      "Requirement already satisfied: pymongo in c:\\users\\wasadmin\\appdata\\roaming\\python\\python312\\site-packages (4.7.2)\n",
      "Requirement already satisfied: dnspython<3.0.0,>=1.16.0 in c:\\users\\wasadmin\\appdata\\roaming\\python\\python312\\site-packages (from pymongo) (2.6.1)\n"
     ]
    }
   ],
   "source": [
    "! pip install pymongo"
   ]
  },
  {
   "cell_type": "code",
   "execution_count": 2,
   "metadata": {},
   "outputs": [
    {
     "name": "stdout",
     "output_type": "stream",
     "text": [
      "Defaulting to user installation because normal site-packages is not writeable\n",
      "Requirement already satisfied: faker in c:\\users\\wasadmin\\appdata\\roaming\\python\\python312\\site-packages (25.2.0)\n",
      "Requirement already satisfied: python-dateutil>=2.4 in c:\\users\\wasadmin\\appdata\\roaming\\python\\python312\\site-packages (from faker) (2.9.0.post0)\n",
      "Requirement already satisfied: six>=1.5 in c:\\users\\wasadmin\\appdata\\roaming\\python\\python312\\site-packages (from python-dateutil>=2.4->faker) (1.16.0)\n"
     ]
    }
   ],
   "source": [
    "! pip install faker"
   ]
  },
  {
   "cell_type": "code",
   "execution_count": 3,
   "metadata": {},
   "outputs": [
    {
     "name": "stdout",
     "output_type": "stream",
     "text": [
      "100 records inserted.\n"
     ]
    }
   ],
   "source": [
    "import random\n",
    "import string\n",
    "from pymongo import MongoClient\n",
    "from faker import Faker\n",
    "\n",
    "# Connect to MongoDB\n",
    "client = MongoClient('mongodb://localhost:27017/')\n",
    "db = client['employeeportal']\n",
    "collection = db['employees']\n",
    "\n",
    "# Initialize Faker\n",
    "fake = Faker()\n",
    "\n",
    "# Set roles and locations to be generated\n",
    "roles = ['Software Engineer', 'Data Scientist', 'HR', 'Sales', 'Marketing Specialist']\n",
    "locations = ['Hartford', 'St. Paul', 'New York', 'San Francisco', 'London', 'Tokyo']\n",
    "\n",
    "# Generate a random employee ID\n",
    "def generate_employee_id():\n",
    "    return ''.join(random.choices(string.digits, k=6))\n",
    "\n",
    "# Generate a random phone number\n",
    "def generate_phone_number():\n",
    "    area_code = random.randint(100, 999)\n",
    "    exchange_code = random.randint(100, 999)\n",
    "    subscriber_number = random.randint(1000, 9999)\n",
    "    return f'{area_code}-{exchange_code}-{subscriber_number}'\n",
    "\n",
    "# Generate a random username\n",
    "def generate_username(name):\n",
    "    name_parts = name.split()\n",
    "    username = ''.join([part[0].lower() for part in name_parts])\n",
    "    username += ''.join(random.choices(string.digits, k=4))  # Adding random digits for uniqueness\n",
    "    return username\n",
    "\n",
    "# Generate dummy data\n",
    "def generate_dummy_data(num_records, num_managers):\n",
    "    manager_ids = [generate_employee_id() for _ in range(num_managers)]  # Generate manager IDs\n",
    "\n",
    "    # Generate managers\n",
    "    for manager_id in manager_ids:\n",
    "        name = fake.name()\n",
    "        username = generate_username(name)\n",
    "        password = ''.join(random.choices(string.ascii_letters + string.digits, k=12))\n",
    "        manager = {\n",
    "            'employee_id': manager_id,\n",
    "            'name': name,\n",
    "            'username': username,\n",
    "            'password': password,\n",
    "            'phone': generate_phone_number(),\n",
    "            'job_role': 'Manager',\n",
    "            'work_location': random.choice(locations),\n",
    "            'salary': random.randint(80000, 150000),\n",
    "            'manager_id': None,\n",
    "            'is_manager': True,\n",
    "            'gender': fake.random_element(['male', 'female']),\n",
    "            'profile_picture': f'https://cataas.com/cat?{random.randint(1, 1000)}&size=200'  # Unique cat image URL with size\n",
    "        }\n",
    "        collection.insert_one(manager)\n",
    "\n",
    "    # Generate non-manager employees\n",
    "    for _ in range(num_records - num_managers):\n",
    "        role, location = random.choice(roles), random.choice(locations)\n",
    "        employee_id = generate_employee_id()\n",
    "        name = fake.name()\n",
    "        username = generate_username(name)\n",
    "        password = ''.join(random.choices(string.ascii_letters + string.digits, k=12))\n",
    "        manager_id = random.choice(manager_ids)\n",
    "        employee = {\n",
    "            'employee_id': employee_id,\n",
    "            'name': name,\n",
    "            'username': username,\n",
    "            'password': password,\n",
    "            'phone': generate_phone_number(),\n",
    "            'job_role': role,\n",
    "            'work_location': location,\n",
    "            'salary': random.randint(50000, 100000),\n",
    "            'manager_id': manager_id,\n",
    "            'is_manager': False,\n",
    "            'gender': fake.random_element(['male', 'female']),\n",
    "            'profile_picture': f'https://cataas.com/cat?{random.randint(1, 1000)}&size=200'  # Unique cat image URL with size\n",
    "        }\n",
    "        collection.insert_one(employee)\n",
    "\n",
    "    print(f'{num_records} records inserted.')\n",
    "\n",
    "# Example usage\n",
    "num_records = 10\n",
    "num_managers = 3\n",
    "generate_dummy_data(num_records, num_managers)"
   ]
  },
  {
   "cell_type": "code",
   "execution_count": null,
   "metadata": {},
   "outputs": [],
   "source": []
  }
 ],
 "metadata": {
  "kernelspec": {
   "display_name": "Python 3",
   "language": "python",
   "name": "python3"
  },
  "language_info": {
   "codemirror_mode": {
    "name": "ipython",
    "version": 3
   },
   "file_extension": ".py",
   "mimetype": "text/x-python",
   "name": "python",
   "nbconvert_exporter": "python",
   "pygments_lexer": "ipython3",
   "version": "3.12.3"
  }
 },
 "nbformat": 4,
 "nbformat_minor": 2
}
