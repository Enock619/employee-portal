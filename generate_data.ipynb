{
 "cells": [
  {
   "cell_type": "code",
   "execution_count": 1,
   "metadata": {},
   "outputs": [
    {
     "name": "stdout",
     "output_type": "stream",
     "text": [
      "Defaulting to user installation because normal site-packages is not writeable\n",
      "Collecting pymongo\n",
      "  Downloading pymongo-4.7.2-cp312-cp312-win_amd64.whl.metadata (22 kB)\n",
      "Collecting dnspython<3.0.0,>=1.16.0 (from pymongo)\n",
      "  Downloading dnspython-2.6.1-py3-none-any.whl.metadata (5.8 kB)\n",
      "Downloading pymongo-4.7.2-cp312-cp312-win_amd64.whl (485 kB)\n",
      "   ---------------------------------------- 0.0/485.1 kB ? eta -:--:--\n",
      "   -------------- ------------------------- 174.1/485.1 kB 5.1 MB/s eta 0:00:01\n",
      "   ---------------------------------------- 485.1/485.1 kB 7.5 MB/s eta 0:00:00\n",
      "Downloading dnspython-2.6.1-py3-none-any.whl (307 kB)\n",
      "   ---------------------------------------- 0.0/307.7 kB ? eta -:--:--\n",
      "   --------------------------------------- 307.7/307.7 kB 18.6 MB/s eta 0:00:00\n",
      "Installing collected packages: dnspython, pymongo\n",
      "Successfully installed dnspython-2.6.1 pymongo-4.7.2\n"
     ]
    }
   ],
   "source": [
    "! pip install pymongo"
   ]
  },
  {
   "cell_type": "code",
   "execution_count": 2,
   "metadata": {},
   "outputs": [
    {
     "name": "stdout",
     "output_type": "stream",
     "text": [
      "Defaulting to user installation because normal site-packages is not writeable\n",
      "Collecting faker\n",
      "  Downloading Faker-25.2.0-py3-none-any.whl.metadata (15 kB)\n",
      "Requirement already satisfied: python-dateutil>=2.4 in c:\\users\\wasadmin\\appdata\\roaming\\python\\python312\\site-packages (from faker) (2.9.0.post0)\n",
      "Requirement already satisfied: six>=1.5 in c:\\users\\wasadmin\\appdata\\roaming\\python\\python312\\site-packages (from python-dateutil>=2.4->faker) (1.16.0)\n",
      "Downloading Faker-25.2.0-py3-none-any.whl (1.8 MB)\n",
      "   ---------------------------------------- 0.0/1.8 MB ? eta -:--:--\n",
      "   ---------------------------------------- 0.0/1.8 MB ? eta -:--:--\n",
      "    --------------------------------------- 0.0/1.8 MB 435.7 kB/s eta 0:00:05\n",
      "   - -------------------------------------- 0.1/1.8 MB 465.5 kB/s eta 0:00:04\n",
      "   -- ------------------------------------- 0.1/1.8 MB 581.0 kB/s eta 0:00:03\n",
      "   -------- ------------------------------- 0.4/1.8 MB 2.0 MB/s eta 0:00:01\n",
      "   ---------------------------------------  1.8/1.8 MB 8.1 MB/s eta 0:00:01\n",
      "   ---------------------------------------- 1.8/1.8 MB 7.1 MB/s eta 0:00:00\n",
      "Installing collected packages: faker\n",
      "Successfully installed faker-25.2.0\n"
     ]
    }
   ],
   "source": [
    "! pip install faker"
   ]
  },
  {
   "cell_type": "code",
   "execution_count": 1,
   "metadata": {},
   "outputs": [
    {
     "name": "stdout",
     "output_type": "stream",
     "text": [
      "5 records inserted.\n"
     ]
    }
   ],
   "source": [
    "from pymongo import MongoClient\n",
    "import random\n",
    "import string\n",
    "from faker import Faker\n",
    "\n",
    "# Connect to MongoDB\n",
    "client = MongoClient('mongodb://localhost:27017/')\n",
    "db = client['employeeportal']\n",
    "collection = db['employees']\n",
    "\n",
    "# Initialize Faker\n",
    "fake = Faker()\n",
    "\n",
    "# Set roles and locations to be generated\n",
    "roles = ['Software Engineer', 'Data Scientist', 'HR', 'Sales', 'Marketing Specialist']\n",
    "locations = ['Hartford', 'St. Paul', 'New York', 'San Francisco', 'London', 'Tokyo']\n",
    "\n",
    "# Generate a random employee ID\n",
    "def generate_employee_id():\n",
    "    return ''.join(random.choices(string.digits, k=6))\n",
    "\n",
    "# Generate a random phone number \n",
    "def generate_phone_number():\n",
    "    area_code = random.randint(100, 999)\n",
    "    exchange_code = random.randint(100, 999)\n",
    "    subscriber_number = random.randint(1000, 9999)\n",
    "    return f'{area_code}-{exchange_code}-{subscriber_number}'\n",
    "\n",
    "# Generate a random username\n",
    "def generate_username(name):\n",
    "    name_parts = name.split()\n",
    "    username = ''.join([part[0].lower() for part in name_parts])\n",
    "    username += ''.join(random.choices(string.digits, k=4))  # Adding random digits for uniqueness\n",
    "    return username\n",
    "\n",
    "# Generate a random password\n",
    "def generate_password():\n",
    "    chars = string.ascii_letters + string.digits + string.punctuation\n",
    "    return ''.join(random.choices(chars, k=12))\n",
    "\n",
    "# Generate dummy data\n",
    "def generate_dummy_data(num_records):\n",
    "    # Generate manager IDs (so that employees are tied to managers)\n",
    "    manager_ids = [generate_employee_id() for _ in range(10)]  # Set number of managers here\n",
    "    \n",
    "    for i in range(num_records):\n",
    "        employee_id = generate_employee_id()\n",
    "        manager_id = random.choice(manager_ids)  # Assigns a random manager ID\n",
    "        name = fake.name()\n",
    "        username = generate_username(name)\n",
    "        password = generate_password()\n",
    "        employee = {\n",
    "            'employee_id': employee_id,\n",
    "            'name': name,\n",
    "            'username': username,\n",
    "            'password': password,\n",
    "            'phone': generate_phone_number(),  # Generate a random phone number\n",
    "            'job_role': random.choice(roles),\n",
    "            'work_location': random.choice(locations),\n",
    "            'salary': random.randint(50000, 100000),\n",
    "            'manager_id': manager_id\n",
    "            # TODO: 'picture': employee_pic\n",
    "        }\n",
    "        collection.insert_one(employee)\n",
    "    print(f'{num_records} records inserted.')\n",
    "\n",
    "generate_dummy_data(5)\n"
   ]
  }
 ],
 "metadata": {
  "kernelspec": {
   "display_name": "Python 3",
   "language": "python",
   "name": "python3"
  },
  "language_info": {
   "codemirror_mode": {
    "name": "ipython",
    "version": 3
   },
   "file_extension": ".py",
   "mimetype": "text/x-python",
   "name": "python",
   "nbconvert_exporter": "python",
   "pygments_lexer": "ipython3",
   "version": "3.12.3"
  }
 },
 "nbformat": 4,
 "nbformat_minor": 2
}
