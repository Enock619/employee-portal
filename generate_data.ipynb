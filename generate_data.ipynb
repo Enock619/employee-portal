{
 "cells": [
  {
   "cell_type": "code",
   "execution_count": 4,
   "metadata": {},
   "outputs": [
    {
     "name": "stdout",
     "output_type": "stream",
     "text": [
      "Defaulting to user installation because normal site-packages is not writeable\n",
      "Requirement already satisfied: pymongo in c:\\users\\wasadmin\\appdata\\roaming\\python\\python312\\site-packages (4.7.2)\n",
      "Requirement already satisfied: dnspython<3.0.0,>=1.16.0 in c:\\users\\wasadmin\\appdata\\roaming\\python\\python312\\site-packages (from pymongo) (2.6.1)\n"
     ]
    }
   ],
   "source": [
    "! pip install pymongo"
   ]
  },
  {
   "cell_type": "code",
   "execution_count": 5,
   "metadata": {},
   "outputs": [
    {
     "name": "stdout",
     "output_type": "stream",
     "text": [
      "Defaulting to user installation because normal site-packages is not writeable\n",
      "Requirement already satisfied: faker in c:\\users\\wasadmin\\appdata\\roaming\\python\\python312\\site-packages (25.2.0)\n",
      "Requirement already satisfied: python-dateutil>=2.4 in c:\\users\\wasadmin\\appdata\\roaming\\python\\python312\\site-packages (from faker) (2.9.0.post0)\n",
      "Requirement already satisfied: six>=1.5 in c:\\users\\wasadmin\\appdata\\roaming\\python\\python312\\site-packages (from python-dateutil>=2.4->faker) (1.16.0)\n"
     ]
    }
   ],
   "source": [
    "! pip install faker"
   ]
  },
  {
   "cell_type": "code",
   "execution_count": 19,
   "metadata": {},
   "outputs": [
    {
     "name": "stdout",
     "output_type": "stream",
     "text": [
      "10 records inserted.\n"
     ]
    }
   ],
   "source": [
    "# Generate dummy data\n",
    "def generate_dummy_data(num_records, num_managers):\n",
    "    # Ensure all combinations are covered\n",
    "    combinations = [(role, location) for role in roles for location in locations]\n",
    "    manager_ids = [generate_employee_id() for _ in range(num_managers)]  # Generate manager IDs\n",
    "    \n",
    "    # Distribute manager IDs among the roles\n",
    "    manager_id_mapping = {role: random.choice(manager_ids) for role in roles}\n",
    "    \n",
    "    for i in range(num_records):\n",
    "        role, location = random.choice(combinations)\n",
    "        employee_id = generate_employee_id()\n",
    "        name = fake.name()\n",
    "        username = generate_username(name)\n",
    "        password = generate_password()\n",
    "        \n",
    "        # Assign manager ID based on role\n",
    "        manager_id = manager_id_mapping.get(role)\n",
    "        \n",
    "        # Check if the employee is a manager\n",
    "        is_manager = role == 'Manager'\n",
    "        \n",
    "        # If the employee is a manager, use manager ID as employee ID\n",
    "        if is_manager:\n",
    "            employee_id = manager_id\n",
    "        \n",
    "        employee = {\n",
    "            'employee_id': employee_id,\n",
    "            'name': name,\n",
    "            'username': username,\n",
    "            'password': password,\n",
    "            'phone': generate_phone_number(),  # Generate a random phone number\n",
    "            'job_role': role,\n",
    "            'work_location': location,\n",
    "            'salary': random.randint(50000, 100000),\n",
    "            'manager_id': manager_id,\n",
    "            'is_manager': is_manager  # Indicate if the employee is a manager\n",
    "            # TODO: 'picture': employee_pic\n",
    "        }\n",
    "        collection.insert_one(employee)\n",
    "    print(f'{num_records} records inserted.')\n",
    "\n",
    "\n",
    "# Example usage:\n",
    "num_records = 10  # Set the number of records here\n",
    "num_managers = 5  # Set the number of managers here\n",
    "generate_dummy_data(num_records, num_managers)\n"
   ]
  },
  {
   "cell_type": "code",
   "execution_count": null,
   "metadata": {},
   "outputs": [],
   "source": []
  }
 ],
 "metadata": {
  "kernelspec": {
   "display_name": "Python 3",
   "language": "python",
   "name": "python3"
  },
  "language_info": {
   "codemirror_mode": {
    "name": "ipython",
    "version": 3
   },
   "file_extension": ".py",
   "mimetype": "text/x-python",
   "name": "python",
   "nbconvert_exporter": "python",
   "pygments_lexer": "ipython3",
   "version": "3.12.3"
  }
 },
 "nbformat": 4,
 "nbformat_minor": 2
}
